{
 "cells": [
  {
   "cell_type": "code",
   "execution_count": 130,
   "metadata": {},
   "outputs": [
    {
     "name": "stdout",
     "output_type": "stream",
     "text": [
      "21.27\n"
     ]
    },
    {
     "ename": "SelectorSyntaxError",
     "evalue": "Malformed attribute selector at position 4\n  line 1:\nspan[]\n    ^ (<string>)",
     "output_type": "error",
     "traceback": [
      "Traceback \u001b[0;36m(most recent call last)\u001b[0m:\n",
      "  File \u001b[1;32m\"/Users/cbrewer/miniconda3/lib/python3.7/site-packages/IPython/core/interactiveshell.py\"\u001b[0m, line \u001b[1;32m3267\u001b[0m, in \u001b[1;35mrun_code\u001b[0m\n    exec(code_obj, self.user_global_ns, self.user_ns)\n",
      "  File \u001b[1;32m\"<ipython-input-130-c894e4e5e35f>\"\u001b[0m, line \u001b[1;32m32\u001b[0m, in \u001b[1;35m<module>\u001b[0m\n    shouldBuy('https://www.amazon.com/Algebra-Trigonometry-10th-Michael-Sullivan/dp/0321998596/ref=sr_1_1?keywords=Algebra+and+Trigonometry+%2810th+Edition%29&qid=1552363353&s=books&sr=1-1')\n",
      "  File \u001b[1;32m\"<ipython-input-130-c894e4e5e35f>\"\u001b[0m, line \u001b[1;32m18\u001b[0m, in \u001b[1;35mshouldBuy\u001b[0m\n    buy = soup.select(\"span[]\")\n",
      "  File \u001b[1;32m\"/Users/cbrewer/miniconda3/lib/python3.7/site-packages/bs4/element.py\"\u001b[0m, line \u001b[1;32m1376\u001b[0m, in \u001b[1;35mselect\u001b[0m\n    return soupsieve.select(selector, self, namespaces, limit, **kwargs)\n",
      "  File \u001b[1;32m\"/Users/cbrewer/miniconda3/lib/python3.7/site-packages/soupsieve/__init__.py\"\u001b[0m, line \u001b[1;32m112\u001b[0m, in \u001b[1;35mselect\u001b[0m\n    return compile(select, namespaces, flags, **kwargs).select(tag, limit)\n",
      "  File \u001b[1;32m\"/Users/cbrewer/miniconda3/lib/python3.7/site-packages/soupsieve/__init__.py\"\u001b[0m, line \u001b[1;32m63\u001b[0m, in \u001b[1;35mcompile\u001b[0m\n    return cp._cached_css_compile(pattern, namespaces, custom, flags)\n",
      "  File \u001b[1;32m\"/Users/cbrewer/miniconda3/lib/python3.7/site-packages/soupsieve/css_parser.py\"\u001b[0m, line \u001b[1;32m205\u001b[0m, in \u001b[1;35m_cached_css_compile\u001b[0m\n    CSSParser(pattern, custom=custom_selectors, flags=flags).process_selectors(),\n",
      "  File \u001b[1;32m\"/Users/cbrewer/miniconda3/lib/python3.7/site-packages/soupsieve/css_parser.py\"\u001b[0m, line \u001b[1;32m1010\u001b[0m, in \u001b[1;35mprocess_selectors\u001b[0m\n    return self.parse_selectors(self.selector_iter(self.pattern), index, flags)\n",
      "  File \u001b[1;32m\"/Users/cbrewer/miniconda3/lib/python3.7/site-packages/soupsieve/css_parser.py\"\u001b[0m, line \u001b[1;32m844\u001b[0m, in \u001b[1;35mparse_selectors\u001b[0m\n    key, m = next(iselector)\n",
      "\u001b[0;36m  File \u001b[0;32m\"/Users/cbrewer/miniconda3/lib/python3.7/site-packages/soupsieve/css_parser.py\"\u001b[0;36m, line \u001b[0;32m997\u001b[0;36m, in \u001b[0;35mselector_iter\u001b[0;36m\u001b[0m\n\u001b[0;31m    raise SelectorSyntaxError(msg, self.pattern, index)\u001b[0m\n",
      "\u001b[0;36m  File \u001b[0;32m\"<string>\"\u001b[0;36m, line \u001b[0;32munknown\u001b[0m\n\u001b[0;31mSelectorSyntaxError\u001b[0m\u001b[0;31m:\u001b[0m Malformed attribute selector at position 4\n  line 1:\nspan[]\n    ^\n"
     ]
    }
   ],
   "source": [
    "from bs4 import BeautifulSoup\n",
    "from urllib.request import urlopen\n",
    "import sys\n",
    "\n",
    "def get_ISBN():\n",
    "    \n",
    "\n",
    "def shouldBuy(url):\n",
    "    f = urlopen(url)      # simplified for the example (no urllib)\n",
    "    soup = BeautifulSoup(f)\n",
    "    f.close()\n",
    "    \n",
    "    \n",
    "\n",
    "    sell = soup.find('span', {'id': \"tradeInButton_tradeInValue\"})\n",
    "    if sell:\n",
    "        sell = float(sell.text.strip().replace(\"$\", \"\"))\n",
    "    \n",
    "        print(sell)\n",
    "        \n",
    "        buy = soup.select(\"span[]\")\n",
    "        if buy:\n",
    "            buy = buy[1].text\n",
    "            index = buy.find('$')\n",
    "            buy = buy[index+1:]\n",
    "            buy = float(buy)\n",
    "            print(buy)\n",
    "            \n",
    "            dif = sell - buy\n",
    "            print(dif)\n",
    "        else: \n",
    "            return('no buy')\n",
    "    else:\n",
    "        return('no sell')\n",
    "shouldBuy('https://www.amazon.com/Algebra-Trigonometry-10th-Michael-Sullivan/dp/0321998596/ref=sr_1_1?keywords=Algebra+and+Trigonometry+%2810th+Edition%29&qid=1552363353&s=books&sr=1-1')"
   ]
  },
  {
   "cell_type": "code",
   "execution_count": 129,
   "metadata": {},
   "outputs": [
    {
     "name": "stdout",
     "output_type": "stream",
     "text": [
      "51.3\n"
     ]
    }
   ],
   "source": [
    "#Gets the used price\n",
    "f = urlopen('https://www.amazon.com/gp/offer-listing/{{0321998596}}/ref=olp_f_used?ie=UTF8&amp;condition=used&amp;qid=&amp;sr=%22%3E&f_usedAcceptable=true&f_usedGood=true&f_used=true&f_usedLikeNew=true&f_usedVeryGood=true')\n",
    "soup = BeautifulSoup(f)\n",
    "f.close()\n",
    "buy = soup.find('span', {'class': 'a-color-price'})\n",
    "buy = float(buy.text.strip().replace(\"$\", \"\"))\n",
    "print(buy)"
   ]
  },
  {
   "cell_type": "code",
   "execution_count": null,
   "metadata": {},
   "outputs": [],
   "source": []
  }
 ],
 "metadata": {
  "kernelspec": {
   "display_name": "Python 3",
   "language": "python",
   "name": "python3"
  },
  "language_info": {
   "codemirror_mode": {
    "name": "ipython",
    "version": 3
   },
   "file_extension": ".py",
   "mimetype": "text/x-python",
   "name": "python",
   "nbconvert_exporter": "python",
   "pygments_lexer": "ipython3",
   "version": "3.7.1"
  }
 },
 "nbformat": 4,
 "nbformat_minor": 2
}
